{
 "cells": [
  {
   "cell_type": "markdown",
   "id": "stopped-thought",
   "metadata": {},
   "source": [
    "## Final project: E2E Sample ML course  \n",
    "\n",
    "This document will be organized in the following way:\n",
    "1.  Information about source data and some statistics\n",
    "2.  Information about the models, choosen framework, hyperparams \n",
    "3.  How to install instructions and run an app with virtual environment (without a docker)\n",
    "4.  Information about Dockerfile\n",
    "5.  How to open the port in your remote VM\n",
    "6.  How to run app using docker and which port it uses\n",
    " \n",
    "### 1. Information about source data and some statistics\n",
    "We use data from [Yandex.Realty](https://realty.yandex.ru) which contains real estate listings for apartments in **St. Petersburg only for rent** from 2016 till the middle of August 2018.\n",
    "\n",
    "We have previously deleted outliers from the original detaset. Our dataset is available in the file named **spb.real.estate.archive.rent_cleaned_spb.tsv**. The code we used to work with the data is avaible in the file named **final_project_code**.\n",
    "\n",
    "Let's have a look at all the variables we have in the dataset **that we use for further analysis.**\n",
    "\n",
    "```python\n",
    "<class 'pandas.core.frame.DataFrame'>\n",
    "RangeIndex: 155890 entries, 0 to 155889\n",
    "Data columns (total 7 columns):\n",
    " #   Column        Non-Null Count   Dtype  \n",
    "---  ------        --------------   -----  \n",
    " 0   last_price    155890 non-null  float64\n",
    " 1   open_plan     155890 non-null  bool   \n",
    " 2   rooms         155890 non-null  int64  \n",
    " 3   area          155890 non-null  float64\n",
    " 4   kitchen_area  118764 non-null  float64\n",
    " 5   living_area   123431 non-null  float64\n",
    " 6   renovation    102998 non-null  float64\n",
    "dtypes: bool(1), float64(5), int64(1)\n",
    "memory usage: 7.3 MB\n",
    " ```\n",
    "We see that there are some **nulls** for `kitchen_area`, `living_area`, and `renovation`. Apart from that, some of the datatypes are not correct: for instance, we will need to transform the datatype of the variable `open_plan` from bool to int and for `renovation` from float64 to int.\n",
    " \n",
    "But before the proceed, let's have a look at some visualisation for acquiring a better understanding of the dataset."
   ]
  },
  {
   "cell_type": "markdown",
   "id": "seven-species",
   "metadata": {},
   "source": [
    "#### Histograms \n",
    "We see that most quantitative variables seem to have a right-skewed distribution. Here let's also note that `renovation` is not per se a quantitave variable, it is a categorical variable, still we will treat it as a quantitave variable for the sake of simplicty."
   ]
  },
  {
   "cell_type": "markdown",
   "id": "worthy-ground",
   "metadata": {},
   "source": [
    "![hist_quant](materials/hist_quant.jpg)"
   ]
  },
  {
   "cell_type": "markdown",
   "id": "threatened-ghana",
   "metadata": {},
   "source": [
    "#### Boxplots. Part 1\n",
    "The dataset was previously cleaned from outliers, still some of them remain, especially for our target variable `last_price`. But we will use standatization techniques later, so it is okay to have some of the outliers left."
   ]
  },
  {
   "cell_type": "markdown",
   "id": "alternative-particle",
   "metadata": {},
   "source": [
    "![box_plot1](materials/box_plot1.jpg)"
   ]
  },
  {
   "cell_type": "markdown",
   "id": "mature-genetics",
   "metadata": {},
   "source": [
    "#### Boxplots. Part 2\n",
    "Let's have a closer look at some of the variables: `floor`, `open_plan`, `rooms`, `renovation`. Here we should note that `open_plan` is a binary variable and `renovation` (in its nature) is a categorical variable."
   ]
  },
  {
   "cell_type": "markdown",
   "id": "protecting-million",
   "metadata": {},
   "source": [
    "![box_plot2](materials/box_plot2.jpg)"
   ]
  },
  {
   "cell_type": "markdown",
   "id": "baking-duration",
   "metadata": {},
   "source": [
    "#### Heatmap\n",
    "We see that not all of the variables have a strong relationship with our target variable `last_price`: for example, `kitchen_area` or `renovation`. Still we will leave them in the sample for the sake of completing the task."
   ]
  },
  {
   "cell_type": "markdown",
   "id": "imposed-fever",
   "metadata": {},
   "source": [
    "<img src=\"materials/heat.png\"\n",
    "     alt=\"Markdown Monster icon\"\n",
    "     style=\"float: left; margin-right: 10px;\" />"
   ]
  },
  {
   "cell_type": "markdown",
   "id": "administrative-combine",
   "metadata": {},
   "source": [
    "Let's fix now some issues with nulls and datatypes and have a look at the descriptive statistics before proceeding with the models.\n",
    "```python\n",
    "    rent_df_cleaned['open_plan'] = rent_df_cleaned['open_plan'].astype('int')\n",
    "    rent_df_cleaned['renovation'] = rent_df_cleaned['renovation'].fillna(0)\n",
    "    rent_df_cleaned['living_area'] = rent_df_cleaned['living_area'].fillna(0)\n",
    "    rent_df_cleaned['kitchen_area'] = rent_df_cleaned['kitchen_area'].fillna(0)\n",
    "    rent_df_cleaned['renovation'] = rent_df_cleaned['renovation'].astype('int')\n",
    "   ```\n",
    "Now, to the descriptive statistics:\n",
    "\n",
    "|     | last_price| open_plan|     rooms| area      |kitchen_area|living_area| renovation|     \n",
    "|:----|:---------:|:--------:|:--------:|:---------:|:----------:|:---------:|----------:|\n",
    "|count|155890     |155890    |155890    |155890     |155890      |155890     |155890     | \n",
    "|mean |32605.0872 |0.0001    |1.6053    |53.6892    |8.8785      |24.2391    |2.4374     | \n",
    "|std  |24222.2159 |0.0072    |0.8790    |24.81189   |71.8455     |20.1062    |4.0441     | \n",
    "|min  |9900       |0         |0         |11         |0           |0          |0          | \n",
    "|25%  |20000      |0         |1         |38         |5           |16         |0          |\n",
    "|50%  |25000      |0         |1         |46         |9           |20         |0          |\n",
    "|75%  |35000      |0         |2         |62         |12          |34         |3          | \n",
    "|max  |650000     |1         |5         |200        |25000       |2015       |11         |\n",
    "\n",
    "Surely some of the outliers are remaining, so there is **room for improvement**."
   ]
  },
  {
   "cell_type": "markdown",
   "id": "unlikely-venezuela",
   "metadata": {},
   "source": [
    "Later we break the dataset into train, validation, and holdout samples:\n",
    "\n",
    "```python\n",
    "    train_df = rent_df_cleaned[(rent_df_cleaned.first_day_exposition >= '2018-01-01') \n",
    "                              & (rent_df_cleaned.first_day_exposition < '2018-04-01')]\n",
    "\n",
    "    test_df = rent_df_cleaned[(rent_df_cleaned.first_day_exposition >= '2018-04-01') \n",
    "                              & (rent_df_cleaned.first_day_exposition < '2018-06-01')]\n",
    "\n",
    "    holdout_df = rent_df_cleaned[rent_df_cleaned.first_day_exposition >= '2018-06-01']\n",
    "```\n",
    "#### Applying StandardScalers\n",
    "Next we create StandardScalers and apply them:\n",
    "\n",
    "```python\n",
    "\n",
    "    # creating standard scalers\n",
    "    sc_y = StandardScaler()\n",
    "    sc_x = StandardScaler()\n",
    "\n",
    "    # creating the list of variables we will use in the model\n",
    "    variables = ['last_price', 'open_plan', 'rooms', 'area', 'kitchen_area', 'living_area', 'renovation']\n",
    "\n",
    "    # creating empty datasets/series\n",
    "    y_train = pd.DataFrame(dtype='float64')\n",
    "    X_train = pd.DataFrame()\n",
    "    y_test = pd.DataFrame(dtype='float64')\n",
    "    X_test = pd.DataFrame()\n",
    "\n",
    "    # applying scalars\n",
    "\n",
    "    for var in variables:\n",
    "        if var == 'last_price':\n",
    "            y_train[var] = sc_y.fit_transform(train_df[var].values.reshape(-1, 1)).flatten()\n",
    "            y_test[var] = sc_y.fit_transform(test_df[var].values.reshape(-1, 1)).flatten()\n",
    "        elif var == 'open_plan':\n",
    "            X_train[var] = train_df[var].values.reshape(-1, 1).flatten()\n",
    "            X_test[var] = test_df[var].values.reshape(-1, 1).flatten()\n",
    "        else:\n",
    "            X_train[var] = sc_x.fit_transform(train_df[var].values.reshape(-1, 1)).flatten()\n",
    "            X_test[var] = sc_x.fit_transform(test_df[var].values.reshape(-1, 1)).flatten()\n",
    "```\n",
    "\n",
    "#### A look at X_train and y_train dataframes\n",
    "Let's have a look at the transformed **X_train** dataset by calling `X_train.head()`:\n",
    "\n",
    "\n",
    "|     | open_plan|     rooms| area      |kitchen_area|living_area| renovation|     \n",
    "|:----|:--------:|:--------:|:---------:|:----------:|:---------:|----------:|\n",
    "|0    |0         |-0.571269 |-0.601119  |-0.637516   |-1.108984  |-0.641025  | \n",
    "|1    |0         |-0.571269 |-0.793495  |-0.030875   |-0.082134  |-0.405288  | \n",
    "|2    |0         |-0.571269 |-0.504932  |0.055788    |-0.082134  |-0.641025  | \n",
    "|3    |0         |-0.571269 |-0.79349   |-0.637516   |-1.108984  |-0.641025  | \n",
    "|4    |0         |-0.571269 |-0.793495  |-0.030875   |0.031960   |-0.641025  |\n",
    "\n",
    "\n",
    "And also for **y_train** by calling `y_train.head()`:\n",
    "\n",
    "|     | last_price|\n",
    "|:----|:---------:|\n",
    "|0    |-0.096886  |\n",
    "|1    |-0.531115  |\n",
    "|2    |-0.607744  |\n",
    "|3    |-0.301229  |\n",
    "|4    |-0.403401  | "
   ]
  },
  {
   "cell_type": "markdown",
   "id": "working-yukon",
   "metadata": {},
   "source": [
    "### 2. Information about the models, choosen framework, hyperparams"
   ]
  },
  {
   "cell_type": "markdown",
   "id": "understanding-order",
   "metadata": {},
   "source": [
    "We have decided to use **RandomForestRegressor** and **CatBoostRegressor** to build two different machine models with the same variables. \n",
    "\n",
    "We used the following algorithm (framework):\n",
    "1.  Apply GridSearch to find the best parameters;\n",
    "2.  Fit the model with the best parameters;\n",
    "3.  Calculate the metrics for the model;\n",
    "4.  Recreate scalars, apply them, import scalars and the models to .pkl files."
   ]
  },
  {
   "cell_type": "markdown",
   "id": "opposed-trick",
   "metadata": {},
   "source": [
    "#### Random Forest Regressor\n",
    "\n",
    "1. Apply GridSearch to find the best parameters:\n",
    "```python\n",
    "params = {'forest__n_estimators': [10, 100, 200],\n",
    "          'forest__max_depth': [i for i in range(5, 36, 5)],\n",
    "          'forest__min_samples_leaf': [1, 3, 10],\n",
    "          'forest__max_features': [2, 1],\n",
    "          'forest__min_samples_split' : [2, 3]\n",
    "         }\n",
    "```\n",
    "```python\n",
    "rt = Pipeline([('forest', RandomForestRegressor(random_state=0, bootstrap=True))])\n",
    "```\n",
    "```python\n",
    "rt_cv = GridSearchCV(estimator=rt, param_grid=params, scoring='neg_root_mean_squared_error', cv=5, refit=True, \n",
    "                     n_jobs=1,\n",
    "                     verbose=2)\n",
    "```\n",
    "```python\n",
    "rt_cv.fit(X_train, y_train.values.ravel())\n",
    "```"
   ]
  },
  {
   "cell_type": "markdown",
   "id": "straight-softball",
   "metadata": {},
   "source": [
    "2.  Fit the model with the best parameters:\n",
    "\n",
    "```python\n",
    "# evaluating the random forest with the \"best\" parameters according to the results of GridSearch\n",
    "forest = RandomForestRegressor(max_depth=10, random_state=0, max_features=1, min_samples_leaf=3, min_samples_split=2,\n",
    "                              n_estimators=100)\n",
    "forest.fit(X_train, y_train.values.ravel())\n",
    "```"
   ]
  },
  {
   "cell_type": "markdown",
   "id": "seven-ghana",
   "metadata": {},
   "source": [
    "3.  Calculate the metrics for the model:\n",
    "We calculate the metrics using some simple user defined functions:\n",
    "```python\n",
    "Train sample RMSE: 0.54\n",
    "Train sample MSE: 0.29\n",
    "Train sample MAE: 0.28\n",
    "```\n",
    "```python\n",
    "Validation sample RMSE: 0.64\n",
    "Validation sample MSE: 0.41\n",
    "Validation sample MAE: 0.31\n",
    "```"
   ]
  },
  {
   "cell_type": "markdown",
   "id": "least-delay",
   "metadata": {},
   "source": [
    "#### CatBoost Regressor\n",
    "\n",
    "1. Apply GridSearch to find the best parameters:\n",
    "```python\n",
    "# Let's try to apply Gridsearch with CatBoost Regressor\n",
    "params = {'catboost__iterations': [1500, 2500],\n",
    "          'catboost__depth': [i for i in range(6, 11, 2)],\n",
    "          'catboost__learning_rate': [i for i in np.arange(0.03, 0.10, 0.03)]\n",
    "         }\n",
    "```\n",
    "```python\n",
    "cb = Pipeline([('catboost', CatBoostRegressor(random_seed=1234, logging_level='Silent', thread_count=10))])\n",
    "```\n",
    "```python\n",
    "cb_cv = GridSearchCV(estimator=cb, param_grid=params, scoring='neg_root_mean_squared_error', cv=5, refit=True, \n",
    "                     n_jobs=1,\n",
    "                     verbose=2)\n",
    "```\n",
    "```python\n",
    "cb_cv.fit(X_train, y_train)\n",
    "```"
   ]
  },
  {
   "cell_type": "markdown",
   "id": "spoken-catering",
   "metadata": {},
   "source": [
    "2.  Fit the model with the best parameters:\n",
    "    \n",
    "```python\n",
    "# evaluating the catboost with the \"best\" parameters according to the results of GridSearch\n",
    "catboost_model = CatBoostRegressor(iterations=1500, \n",
    "                                 depth=8,\n",
    "                                 learning_rate=0.03,\n",
    "                                 logging_level='Silent',\n",
    "                                 thread_count=10,\n",
    "                                 random_seed=1234)\n",
    "catboost_model.fit(X_train, y_train)\n",
    "```"
   ]
  },
  {
   "cell_type": "markdown",
   "id": "crude-buying",
   "metadata": {},
   "source": [
    "3. Calculate the metrics for the model:\n",
    "\n",
    "```python\n",
    "Train sample RMSE: 0.41\n",
    "Train sample MSE: 0.16\n",
    "Train sample MAE: 0.26\n",
    "```\n",
    "```python\n",
    "Validation sample RMSE: 0.70\n",
    "Validation sample MSE: 0.49\n",
    "Validation sample MAE: 0.32\n",
    "```\n",
    "In both models some degree of **overfitting** is presented, but it is more prominent for the CatBoost Regressor."
   ]
  },
  {
   "cell_type": "markdown",
   "id": "significant-database",
   "metadata": {},
   "source": [
    "4. Recreate scalars, apply them, import scalars and the models to .pkl files\n",
    "We skip the process of scalars' recreation, reapplication, and reassessment of the models here since it is quite straight-foward. Here is how we downloaded the files:\n",
    "\n",
    "#### Random Forest Regressor\n",
    "```python\n",
    "rf_model_file = 'rf_model.pkl'\n",
    "scaler_x = 'scaler_x.pkl'\n",
    "scaler_y = 'scaler_y.pkl'\n",
    "joblib.dump(sc_x, scaler_x)\n",
    "joblib.dump(sc_y, scaler_y)\n",
    "joblib.dump(forest, rf_model_file)\n",
    "```\n",
    "#### CatBoost Regressor\n",
    "```python\n",
    "cb_model_file = 'cb_model.pkl'\n",
    "joblib.dump(catboost_model, cb_model_file)\n",
    "```"
   ]
  },
  {
   "cell_type": "markdown",
   "id": "structured-rendering",
   "metadata": {},
   "source": [
    "### 3. How to install instructions and run an app with virtual environment (without a docker)"
   ]
  },
  {
   "cell_type": "markdown",
   "id": "extra-analyst",
   "metadata": {},
   "source": [
    "Once you have created and connected to your VM, you can create you virtual environment **(without a docker)**:\n",
    "1. `sudo apt install python3.8-venv`\n",
    "2. `python3 -m venv env`\n",
    "3. `source env/bin/activate`\n",
    "\n",
    "You will also need to initialize a git repository in your virtual environment. To do this, you need to run:\n",
    "1. `sudo apt install git` \n",
    "2. `git init`\n",
    "3. `git add .` \n",
    "4. `git commit -m 'Any message'`\n",
    "\n",
    "Now you can pull the files from this **repository**. Afterwards you will need to install requirements from **requirements.txt** file by executing: `pip install -r requirements.txt`. It may ask you to install pip, which is totally okay. \n",
    "\n",
    "You may also install libraries manually using `pip install <library\">`. You will need `numpy`, `Flask`, `sklearn`, `pandas`, `joblib`, and `catboost`.\n",
    "\n",
    "Now you will need to use a `sudo ufw allow 6262`, there 6262 is the `number of the port` used in the application. You can change it if you want. Now you can run the application using `python3 app_new.py`. \n",
    "\n",
    "You can go to [Postman](https://www.postman.com/) and try creating an HTTP-request there.\n",
    "\n",
    "Your request should include: `<your_public_IP>:6262/predict_price` and you should also specify the parameters you want to use in the following order:\n",
    "1. model version (1 for Random Forest Regressor, 2 for CatBoost Regressor)\n",
    "2. open_plan (0 or 1)\n",
    "3. area (any reasonable number)\n",
    "4. kitchen_area (any reasonable number)\n",
    "5. living_area (any reasonable number)\n",
    "6. renovation (any int number from 0 to 11)\n",
    "\n",
    "Notice that if you do not specify some parameter, you will get an exception: `ex.500 Internal server error`"
   ]
  },
  {
   "cell_type": "markdown",
   "id": "metropolitan-principal",
   "metadata": {},
   "source": [
    "### 4. Information about Dockerfile\n",
    "\n",
    "You may want to have a look at **Dockerfile** in the repository. \n",
    "```linux\n",
    "from ubuntu:20.04 \n",
    "MAINTAINER Lilomilo\n",
    "RUN apt-get update -y\n",
    "COPY . /opt/predict_price\n",
    "WORKDIR /opt/predict_price\n",
    "RUN apt install -y python3-pip\n",
    "RUN pip3 install -r requirements.txt\n",
    "CMD python3 app_new.py\n",
    "```\n",
    "We used `ubuntu` image to create our docker containers. Basically this code updates the current versions of the packages, copies all the content (except those files specified in our `.dockerignore` file), creates a working directory `predict_price`, installs a `python3` virtual environment, installs all the required libraries stored in `requirements.txt`, and runs an application `app_new.py`."
   ]
  },
  {
   "cell_type": "markdown",
   "id": "facial-activity",
   "metadata": {},
   "source": [
    "### 5. How to open a port in your VM\n",
    "If you want to open a port in your VM, you need to use the following code: `sudo ufw allow <number of the port>` you wish to open. The port number should be the same one you use in your version of the application.\n",
    "\n",
    "If this port is already in use, you might want to use `htop` in order to stop the process that uses the port. You might need to install `htop` using `sudo apt install htop` before that."
   ]
  },
  {
   "cell_type": "markdown",
   "id": "interested-plastic",
   "metadata": {},
   "source": [
    "### 6. How to run app using docker and which port it uses\n",
    "Our docker is located [here](https://hub.docker.com/r/lilomilo/predict_price) at [Docker Hub](https://hub.docker.com/).\n",
    "\n",
    "If you want to use it for running an application, you will first need to install docker at your VM using these links:\n",
    "1. Install docker engine: https://docs.docker.com/engine/install/ubuntu/\n",
    "2. Post-installation steps for Linux: https://docs.docker.com/engine/install/linux-postinstall/\n",
    "\n",
    "Now you can use `docker pull lilomilo/predict_price:v.0.3` to pull the container to your machine. Use the following command: `docker run -network host -d lilomilo/predict_price:v.0.3` to run the container. \n",
    "\n",
    "Now you can go to [Postman](https://www.postman.com/) and try creating an HTTP-request there.\n",
    "\n",
    "Your request should include `<your_public_IP>:6262/predict_price` and you should also specify the parameters you want to use in the following order:\n",
    "1. model version (1 for Random Forest Regressor, 2 for CatBoost Regressor)\n",
    "2. open_plan (0 or 1)\n",
    "3. area (any reasonable number)\n",
    "4. kitchen_area (any reasonable number)\n",
    "5. living_area (any reasonable number)\n",
    "6. renovation (any int number from 0 to 11)\n",
    "\n",
    "You may want to change the number of the port, see 5. How to open a port in your VM for that."
   ]
  },
  {
   "cell_type": "markdown",
   "id": "nervous-simulation",
   "metadata": {},
   "source": [
    "#### Notes\n",
    "Currently the application is avaliable via thsi HTTP-request:\n",
    "`51.250.103.254:6262/predict_price?model_version=2&open_plan=1&rooms=2&area=34&kitchen_area=0&living_area=2&renovation=3`\n",
    "\n",
    "You may change the parameters of the request."
   ]
  }
 ],
 "metadata": {
  "kernelspec": {
   "display_name": "Python 3",
   "language": "python",
   "name": "python3"
  },
  "language_info": {
   "codemirror_mode": {
    "name": "ipython",
    "version": 3
   },
   "file_extension": ".py",
   "mimetype": "text/x-python",
   "name": "python",
   "nbconvert_exporter": "python",
   "pygments_lexer": "ipython3",
   "version": "3.8.6"
  }
 },
 "nbformat": 4,
 "nbformat_minor": 5
}
